{
  "cells": [
    {
      "cell_type": "markdown",
      "metadata": {},
      "source": [
        "# Smoke Test\nRun this notebook to validate the base environment."
      ]
    },
    {
      "cell_type": "code",
      "metadata": {},
      "execution_count": null,
      "outputs": [],
      "source": [
        "import sys, platform\n",
        "import pandas as pd, polars as pl, duckdb, pyodbc\n",
        "print('Python', sys.version)\n",
        "print('Platform', platform.platform())\n",
        "print('pandas', pd.__version__, '| polars', pl.__version__)"
      ]
    }
  ],
  "metadata": {
    "kernelspec": {
      "display_name": "Python 3.11 (Analytics)",
      "language": "python",
      "name": "python3"
    },
    "language_info": {
      "name": "python",
      "version": "3.11"
    }
  },
  "nbformat": 4,
  "nbformat_minor": 5
}